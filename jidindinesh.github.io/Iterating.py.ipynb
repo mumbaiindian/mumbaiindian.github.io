{
 "cells": [
  {
   "cell_type": "markdown",
   "metadata": {},
   "source": [
    "\n",
    "![](http://www.quickmeme.com/img/dd/dd6c809714a2f1300a5257ac081d6ab0119da35d5e195acba939472a0b94fa7d.jpg)"
   ]
  },
  {
   "cell_type": "markdown",
   "metadata": {},
   "source": [
    "\n",
    "\n",
    "# TL;DR: An iterable is something you can iterate over any number of times, whereas an iterator is something you can iterate over once. Iterables aren't iterators, but iterators are iterables!\n",
    "\n",
    "The two are closely related: each time you iterate over an iterable, the interpreter actually creates a new iterator from the iterable, and loops over that. The mechanism is quite simple, but until you understand the details it can seem a little confusing.\n",
    "\n",
    "It is often the case that, authors tend to keep these in the **Advanced Section** of their books or articles on Python.\n",
    "\n",
    "\n",
    "\n",
    "# Iteration in Python\n",
    "*Do this on every one of these* <br/>\n",
    "This is applicable generally to anything that uses the **for keyword** specifically\n",
    "1. for loops\n",
    "1. list,dict and set comprehensions.\n",
    "\n",
    "*P.S This is not relevant for while loops*"
   ]
  },
  {
   "cell_type": "markdown",
   "metadata": {},
   "source": [
    "Let's now make a list of programming languages for obvious reasons 😅\n"
   ]
  },
  {
   "cell_type": "code",
   "execution_count": 1,
   "metadata": {},
   "outputs": [],
   "source": [
    "def do_this_with(o):\n",
    "    print(\"!\", o, \"!\")\n",
    "lang_list = [\"Python\", \"Go\", \"Java\"]"
   ]
  },
  {
   "cell_type": "markdown",
   "metadata": {},
   "source": [
    "Originally (well, certainly in Python 1.5), for loop iterations over an object x were quite simplistic. The interpeter would internally create a hidden integer variable, then repeatedly index x using the hidden variable as an index (by calling x's getitem method with the hidden variable as an argument), incrementing it to produce successive values until the call produced an IndexError exception, thereby causing the loop to terminate."
   ]
  },
  {
   "cell_type": "code",
   "execution_count": 2,
   "metadata": {},
   "outputs": [
    {
     "name": "stdout",
     "output_type": "stream",
     "text": [
      "! Python !\n",
      "! Go !\n",
      "! Java !\n"
     ]
    }
   ],
   "source": [
    "private_var = 0\n",
    "while True:\n",
    "    try:\n",
    "        i = lang_list.__getitem__(private_var)\n",
    "    except IndexError:\n",
    "        break\n",
    "    do_this_with(i)\n",
    "    private_var += 1"
   ]
  },
  {
   "cell_type": "markdown",
   "metadata": {},
   "source": [
    "The mechanism, which we can think of as the old iteration protocol, was easy to understand but only worked for objects that could be numerically indexed (tuples, lists, and other sequence types). Indices must run from 0 to N-1 and therefore could not be used to iterate over unordered containers(sets,dicts).\n",
    "\n"
   ]
  },
  {
   "cell_type": "markdown",
   "metadata": {},
   "source": [
    "# Enter the Iterable\n",
    "\n",
    "To overcome the limitations of this old protocol, and specifically to allow iteration over objects that can't be numerically indexed, a newer protocol was introduced, which works with any iterable.\n",
    "\n",
    "The protocol is quite simple, but not well understood. When you write code like the following to iterate over an iterable such as a list.\n",
    "\n",
    "    for i in test_list: # or some other iterable \n",
    "        do_something_with(i)\n",
    "\n",
    "the interpreter begins by calling the iterable's iter method to create an iterator. If the object has no iter method, the interpreter simply falls back to the old protocol(as Python is backward compatible). If there's no getitem method either, the interpreter just raises a TypeError exception, on the not unreasonable grounds that there's no way to iterate over the given value.\n",
    "\n",
    "Let me show you, what I meant."
   ]
  },
  {
   "cell_type": "code",
   "execution_count": 3,
   "metadata": {},
   "outputs": [
    {
     "ename": "TypeError",
     "evalue": "'NoneType' object is not iterable",
     "output_type": "error",
     "traceback": [
      "\u001b[1;31m---------------------------------------------------------------------------\u001b[0m",
      "\u001b[1;31mTypeError\u001b[0m                                 Traceback (most recent call last)",
      "\u001b[1;32m<ipython-input-3-db0e4290e1ce>\u001b[0m in \u001b[0;36m<module>\u001b[1;34m()\u001b[0m\n\u001b[1;32m----> 1\u001b[1;33m \u001b[1;32mfor\u001b[0m \u001b[0mi\u001b[0m \u001b[1;32min\u001b[0m \u001b[1;32mNone\u001b[0m\u001b[1;33m:\u001b[0m\u001b[1;33m\u001b[0m\u001b[0m\n\u001b[0m\u001b[0;32m      2\u001b[0m     \u001b[0mdo_something_with\u001b[0m\u001b[1;33m(\u001b[0m\u001b[0mi\u001b[0m\u001b[1;33m)\u001b[0m\u001b[1;33m\u001b[0m\u001b[0m\n",
      "\u001b[1;31mTypeError\u001b[0m: 'NoneType' object is not iterable"
     ]
    }
   ],
   "source": [
    "for i in None:\n",
    "    do_something_with(i)"
   ]
  },
  {
   "cell_type": "markdown",
   "metadata": {},
   "source": [
    "Why couldn't Python iterate over NoneType object? Let's see"
   ]
  },
  {
   "cell_type": "code",
   "execution_count": 4,
   "metadata": {},
   "outputs": [
    {
     "name": "stdout",
     "output_type": "stream",
     "text": [
      "False False\n"
     ]
    }
   ],
   "source": [
    "oi = dir(None)\n",
    "print(\"__iter__\" in oi, \"__getitem__\" in oi)"
   ]
  },
  {
   "cell_type": "markdown",
   "metadata": {},
   "source": [
    "NoneType has neither iter or getitem methods."
   ]
  },
  {
   "cell_type": "code",
   "execution_count": 5,
   "metadata": {},
   "outputs": [
    {
     "name": "stdout",
     "output_type": "stream",
     "text": [
      "! Python !\n",
      "! Go !\n",
      "! Java !\n"
     ]
    }
   ],
   "source": [
    "_ = lang_list.__iter__()  # creates an iterator\n",
    "while True:\n",
    "    try:\n",
    "        i = _.__next__()  \n",
    "    except StopIteration: # iterator is exhausted\n",
    "        break\n",
    "    do_this_with(i)"
   ]
  },
  {
   "cell_type": "markdown",
   "metadata": {},
   "source": [
    "Each time through the loop, the interpreter extracts the next value from the iterator by calling its next method (Python 2 contained a design flaw and the method is called next, failing to denote it as a special method. It was renamed in Python 3).n the case above, the results of the next call are successively bound to i, until next raises a StopIteration exception, which is used to terminate the loop normally.\n",
    "\n",
    "\n",
    "This is how you can check if the new iteration protocol will work on an object, see whether it has an iter method. \n",
    "If it does, then it's an iterable. Lists are iterables, for example:\n"
   ]
  },
  {
   "cell_type": "code",
   "execution_count": 6,
   "metadata": {},
   "outputs": [
    {
     "data": {
      "text/plain": [
       "True"
      ]
     },
     "execution_count": 6,
     "metadata": {},
     "output_type": "execute_result"
    }
   ],
   "source": [
    "hasattr(lang_list, \"__iter__\")"
   ]
  },
  {
   "cell_type": "markdown",
   "metadata": {},
   "source": [
    "So what kind of an object does a call to that method return? A specific kind of iterator called a *list iterator*."
   ]
  },
  {
   "cell_type": "code",
   "execution_count": 7,
   "metadata": {},
   "outputs": [
    {
     "ename": "TypeError",
     "evalue": "'list' object is not an iterator",
     "output_type": "error",
     "traceback": [
      "\u001b[1;31m---------------------------------------------------------------------------\u001b[0m",
      "\u001b[1;31mTypeError\u001b[0m                                 Traceback (most recent call last)",
      "\u001b[1;32m<ipython-input-7-015e4d5f862c>\u001b[0m in \u001b[0;36m<module>\u001b[1;34m()\u001b[0m\n\u001b[0;32m      1\u001b[0m \u001b[0mx\u001b[0m\u001b[1;33m=\u001b[0m\u001b[1;33m[\u001b[0m\u001b[1;36m1\u001b[0m\u001b[1;33m,\u001b[0m\u001b[1;36m2\u001b[0m\u001b[1;33m,\u001b[0m\u001b[1;36m3\u001b[0m\u001b[1;33m]\u001b[0m\u001b[1;33m\u001b[0m\u001b[0m\n\u001b[1;32m----> 2\u001b[1;33m \u001b[0mprint\u001b[0m\u001b[1;33m(\u001b[0m\u001b[0mnext\u001b[0m\u001b[1;33m(\u001b[0m\u001b[0mx\u001b[0m\u001b[1;33m)\u001b[0m\u001b[1;33m)\u001b[0m\u001b[1;33m\u001b[0m\u001b[0m\n\u001b[0m",
      "\u001b[1;31mTypeError\u001b[0m: 'list' object is not an iterator"
     ]
    }
   ],
   "source": [
    "x=[1,2,3]\n",
    "print(next(x))"
   ]
  },
  {
   "cell_type": "code",
   "execution_count": 8,
   "metadata": {},
   "outputs": [
    {
     "name": "stdout",
     "output_type": "stream",
     "text": [
      "1\n",
      "2\n",
      "3\n"
     ]
    }
   ],
   "source": [
    "x=[1,2,3]\n",
    "y=iter(x)\n",
    "print(next(y))\n",
    "print(next(y))\n",
    "print(next(y))\n"
   ]
  },
  {
   "cell_type": "code",
   "execution_count": 9,
   "metadata": {},
   "outputs": [
    {
     "data": {
      "text/plain": [
       "list"
      ]
     },
     "execution_count": 9,
     "metadata": {},
     "output_type": "execute_result"
    }
   ],
   "source": [
    "type(x)"
   ]
  },
  {
   "cell_type": "code",
   "execution_count": 10,
   "metadata": {},
   "outputs": [
    {
     "data": {
      "text/plain": [
       "list_iterator"
      ]
     },
     "execution_count": 10,
     "metadata": {},
     "output_type": "execute_result"
    }
   ],
   "source": [
    "type(y)"
   ]
  },
  {
   "cell_type": "markdown",
   "metadata": {},
   "source": [
    "# Inferences from the 4 cells above :\n",
    "\n",
    "Iterables(lists,tuples,dicts,sets etc)\n",
    "* Do not have the next method\n",
    "* Have the iter method , which returns an iterator\n",
    "\n",
    "Iterators (built in factory function)\n",
    "* Have both the iter and next methods\n",
    "* iter method returns self\n",
    "\n",
    "\n",
    "\n",
    "\n",
    "\n",
    "_A factory function is basically used to return (new) objects._\n",
    "\n",
    "\n",
    "Evidence for the above inferences"
   ]
  },
  {
   "cell_type": "code",
   "execution_count": 11,
   "metadata": {},
   "outputs": [
    {
     "name": "stdout",
     "output_type": "stream",
     "text": [
      "True False\n"
     ]
    }
   ],
   "source": [
    "print(hasattr(x,'__iter__'),hasattr(x,'__next__'))"
   ]
  },
  {
   "cell_type": "code",
   "execution_count": 12,
   "metadata": {},
   "outputs": [
    {
     "name": "stdout",
     "output_type": "stream",
     "text": [
      "True True\n"
     ]
    }
   ],
   "source": [
    "print(hasattr(y,'__iter__'),hasattr(y,'__next__'))"
   ]
  },
  {
   "cell_type": "markdown",
   "metadata": {},
   "source": [
    " Calling iter method on a iterable returns a *new* iterator"
   ]
  },
  {
   "cell_type": "code",
   "execution_count": 13,
   "metadata": {},
   "outputs": [
    {
     "name": "stdout",
     "output_type": "stream",
     "text": [
      "2108767821664\n",
      "2108767821496\n"
     ]
    }
   ],
   "source": [
    "iterator_1 = iter(lang_list) \n",
    "iterator_2 = iter(lang_list)\n",
    "print(id(iterator_1))\n",
    "print(id(iterator_2))"
   ]
  },
  {
   "cell_type": "markdown",
   "metadata": {},
   "source": [
    "Calling iter method on a iterator returns *self*"
   ]
  },
  {
   "cell_type": "code",
   "execution_count": 14,
   "metadata": {},
   "outputs": [
    {
     "name": "stdout",
     "output_type": "stream",
     "text": [
      "2108767854664\n",
      "2108767854664\n"
     ]
    }
   ],
   "source": [
    "iterator_1 = iter(lang_list)\n",
    "iterator_2 = iter(iterator_1)\n",
    "print(id(iterator_1))\n",
    "print(id(iterator_2))"
   ]
  },
  {
   "cell_type": "markdown",
   "metadata": {},
   "source": [
    "# Don't forget \n",
    "iter(o) == o.iter\n",
    "\n",
    "next(o) == o.next\n",
    "\n",
    "Now let me make it clear why **Iterators are Iterables but not the other way around**.\n",
    "\n",
    "Iterators are Iterables because they too have an iter method and Iterables are not Iterators as they don't have  an next method.\n",
    "\n",
    "![](https://i.imgur.com/YPQ5d4z.gif)\n",
    "\n",
    "\n",
    "# A lazy factory\n",
    "From the outside, the iterator is like a lazy factory that is idle until you ask it for a value, which is when it starts to buzz and produce a single value, after which it turns idle again.\n",
    "\n",
    "# Welcome Generators - the nicer cousin of Iterators"
   ]
  },
  {
   "cell_type": "markdown",
   "metadata": {},
   "source": [
    "* A generator is a special kind of iterator—the elegant kind.\n",
    "* Any generator also is an iterator (not vice versa!);\n",
    "* Any generator, therefore, is a factory that lazily produces values.\n",
    "\n",
    "\n",
    "\n",
    "![Credits Vincent Driessen](https://nvie.com/img/relationships.png)\n"
   ]
  },
  {
   "cell_type": "markdown",
   "metadata": {},
   "source": [
    "There are two types of generators in Python: generator functions and generator expressions. A generator function is any function in which the keyword *yield* appears in its body. The other type of generators are the generator equivalent of a list comprehension.\n",
    "\n",
    "_P.S Both yield and return will return some value from a function._\n",
    "\n",
    "_The difference is that, while a return statement terminates a function entirely, yield statement pauses the function saving all its states and later continues from there on successive calls._\n",
    "\n",
    "Here is what a _generator function_ looks like. Each yield becomes the return value of the next call.\n"
   ]
  },
  {
   "cell_type": "code",
   "execution_count": 15,
   "metadata": {},
   "outputs": [],
   "source": [
    "def rangedown(n):\n",
    "    for i in reversed(range(n)):\n",
    "        yield i"
   ]
  },
  {
   "cell_type": "code",
   "execution_count": 16,
   "metadata": {},
   "outputs": [
    {
     "name": "stdout",
     "output_type": "stream",
     "text": [
      "4\n",
      "3\n",
      "2\n",
      "1\n",
      "0\n"
     ]
    }
   ],
   "source": [
    "generator = rangedown(5)\n",
    "for x in generator:\n",
    "    print(x)"
   ]
  },
  {
   "cell_type": "markdown",
   "metadata": {},
   "source": [
    "# The generator object can be iterated only once. To restart the process we need to create another generator object using something like  \n",
    "\n",
    "generator = rangedown(5)\n",
    "\n",
    "The cell below does not print anything as the generator has already been iterated over."
   ]
  },
  {
   "cell_type": "code",
   "execution_count": 17,
   "metadata": {},
   "outputs": [],
   "source": [
    "for x in generator:\n",
    "    print(x)"
   ]
  },
  {
   "cell_type": "markdown",
   "metadata": {},
   "source": [
    "Now this is what a generator expression would look like, more or less like any container comprehension. The syntax for generator expression is similar to that of a list comprehension in Python. But the square brackets are replaced with round parentheses.\n",
    "## The major difference between a list comprehension and a generator expression is that while list comprehension produces the entire list, generator expression produces one item at a time."
   ]
  },
  {
   "cell_type": "code",
   "execution_count": 18,
   "metadata": {},
   "outputs": [],
   "source": [
    "numbers=[1,2,3,4,5]\n",
    "lazy_squares = (x * x for x in numbers)"
   ]
  },
  {
   "cell_type": "code",
   "execution_count": 19,
   "metadata": {},
   "outputs": [
    {
     "data": {
      "text/plain": [
       "<generator object <genexpr> at 0x000001EAFC59F7D8>"
      ]
     },
     "execution_count": 19,
     "metadata": {},
     "output_type": "execute_result"
    }
   ],
   "source": [
    "lazy_squares"
   ]
  },
  {
   "cell_type": "code",
   "execution_count": 20,
   "metadata": {},
   "outputs": [
    {
     "data": {
      "text/plain": [
       "1"
      ]
     },
     "execution_count": 20,
     "metadata": {},
     "output_type": "execute_result"
    }
   ],
   "source": [
    "next(lazy_squares)"
   ]
  },
  {
   "cell_type": "code",
   "execution_count": 21,
   "metadata": {},
   "outputs": [
    {
     "data": {
      "text/plain": [
       "[4, 9, 16, 25]"
      ]
     },
     "execution_count": 21,
     "metadata": {},
     "output_type": "execute_result"
    }
   ],
   "source": [
    "list(lazy_squares)"
   ]
  },
  {
   "cell_type": "markdown",
   "metadata": {},
   "source": [
    "Note that, because we read the first value from lazy_sqaures with next(), it's state is now at the \"second\" item, so when we consume it entirely by calling list(), that will only return the partial list of sqaures. (This is just to show the lazy behaviour.)\n",
    "\n",
    "Simple generators can be easily created on the fly using generator expressions. It makes building generators easy. Same as lambda function creates an anonymous function, generator expression creates an anonymous generator function."
   ]
  },
  {
   "cell_type": "markdown",
   "metadata": {},
   "source": [
    "Why generators are used in Python?\n",
    "There are several reasons which make generators an attractive implementation to go for.\n",
    "\n",
    "* Easy to Implement \n",
    "\n",
    "    Generators can be implemented in a clear and concise way as compared to their iterator class counterpart. \n",
    "Following is an example to implement a sequence of power of 2's using iterator class.\n",
    "\n",
    "\n",
    "* Memory Efficient\n",
    "\n",
    "    A normal function to return a sequence will create the entire sequence in memory before returning the result. This is an overkill if the number of items in the sequence is very large. Generator implementation of such sequence is memory friendly and is preferred since it only produces one item at a time.\n",
    "\n",
    "* Represent Infinite Stream\n",
    "\n",
    "    Generators are excellent medium to represent an infinite stream of data. Infinite streams cannot be stored in memory and since generators produce only one item at a time, it can represent infinite stream of data.\n",
    "    \n",
    "    \n",
    "* [Pipelining Generators](https://brett.is/writing/about/generator-pipelines-in-python/)"
   ]
  },
  {
   "cell_type": "code",
   "execution_count": 22,
   "metadata": {},
   "outputs": [],
   "source": [
    "class PowTwo:\n",
    "    def __init__(self, max = 0):\n",
    "        self.max = max\n",
    "\n",
    "    def __iter__(self):\n",
    "        self.n = 0\n",
    "        return self\n",
    "\n",
    "    def __next__(self):\n",
    "        if self.n > self.max:\n",
    "            raise StopIteration\n",
    "\n",
    "        result = 2 ** self.n\n",
    "        self.n += 1\n",
    "        return result"
   ]
  },
  {
   "cell_type": "markdown",
   "metadata": {},
   "source": [
    "This was lengthy. Now lets do the same using a generator function. Since, generators keep track of details automatically, it was concise and much cleaner in implementation."
   ]
  },
  {
   "cell_type": "code",
   "execution_count": 23,
   "metadata": {},
   "outputs": [],
   "source": [
    "def PowTwoGen(max = 0):\n",
    "    n = 0\n",
    "    while n < max:\n",
    "        yield 2 ** n\n",
    "        n += 1              "
   ]
  },
  {
   "cell_type": "markdown",
   "metadata": {},
   "source": []
  },
  {
   "cell_type": "markdown",
   "metadata": {},
   "source": [
    "# Generators are an incredible powerful programming construct. They allow you to write streaming code with fewer intermediate variables and data structures. Besides that, they are more memory and CPU efficient. Finally, they tend to require fewer lines of code, too.\n",
    "\n",
    "# I should use them more and maybe, you should do."
   ]
  },
  {
   "cell_type": "markdown",
   "metadata": {},
   "source": [
    "# And just letting you know,"
   ]
  },
  {
   "cell_type": "code",
   "execution_count": 24,
   "metadata": {},
   "outputs": [
    {
     "data": {
      "text/html": [
       "\n",
       "        <iframe\n",
       "            width=\"1000\"\n",
       "            height=\"600\"\n",
       "            src=\"https://pythonclock.org/\"\n",
       "            frameborder=\"0\"\n",
       "            allowfullscreen\n",
       "        ></iframe>\n",
       "        "
      ],
      "text/plain": [
       "<IPython.lib.display.IFrame at 0x1eafc5be1d0>"
      ]
     },
     "execution_count": 24,
     "metadata": {},
     "output_type": "execute_result"
    }
   ],
   "source": [
    "from IPython.display import IFrame \n",
    "IFrame(src='https://pythonclock.org/', width=1000, height=600)"
   ]
  }
 ],
 "metadata": {
  "kernelspec": {
   "display_name": "Python 3",
   "language": "python",
   "name": "python3"
  },
  "language_info": {
   "codemirror_mode": {
    "name": "ipython",
    "version": 3
   },
   "file_extension": ".py",
   "mimetype": "text/x-python",
   "name": "python",
   "nbconvert_exporter": "python",
   "pygments_lexer": "ipython3",
   "version": "3.6.5"
  }
 },
 "nbformat": 4,
 "nbformat_minor": 2
}
